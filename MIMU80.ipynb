{
 "cells": [
  {
   "attachments": {},
   "cell_type": "markdown",
   "metadata": {},
   "source": [
    "# Validate Motion State is Working"
   ]
  },
  {
   "cell_type": "code",
   "execution_count": 1,
   "metadata": {},
   "outputs": [
    {
     "data": {
      "text/plain": [
       "<module 'fetch_data' from '/home/tyler/Documents/Matt3r/IMU_validation/fetch_data.py'>"
      ]
     },
     "execution_count": 1,
     "metadata": {},
     "output_type": "execute_result"
    }
   ],
   "source": [
    "import pandas as pd\n",
    "import matplotlib.pyplot as plt\n",
    "import fetch_data\n",
    "import numpy as np\n",
    "import correct_drift\n",
    "import datetime\n",
    "\n",
    "import importlib\n",
    "importlib.reload(fetch_data)"
   ]
  },
  {
   "attachments": {},
   "cell_type": "markdown",
   "metadata": {},
   "source": [
    "Select Data"
   ]
  },
  {
   "cell_type": "code",
   "execution_count": 2,
   "metadata": {},
   "outputs": [],
   "source": [
    "# Hamid data (must be after July 7th)\n",
    "start_date_str = '2023-07-07'\n",
    "end_date_str = '2023-07-08'\n",
    "organization_id = 'hamid'\n",
    "can_k3y_id = '17700cf8'\n",
    "imu_k3y_id = '17700cf8'"
   ]
  },
  {
   "cell_type": "code",
   "execution_count": null,
   "metadata": {},
   "outputs": [],
   "source": [
    "event_dict = fetch_data.get_events(can_k3y_id, organization_id, start_date_str, end_date_str)\n",
    "can_df = fetch_data.get_can_data(can_k3y_id, organization_id, start_date_str, end_date_str)\n",
    "imu_df = fetch_data.get_imu_data(imu_k3y_id, organization_id, start_date_str, end_date_str)\n",
    "imu_df['norm_acc'] = np.sqrt(imu_df['lr_acc(m/s^2)']**2 + imu_df['bf_acc(m/s^2)']**2 + imu_df['vert_acc(m/s^2)']**2)"
   ]
  },
  {
   "cell_type": "markdown",
   "metadata": {},
   "source": [
    "Use the speed data to create stationary and driving states"
   ]
  },
  {
   "cell_type": "code",
   "execution_count": null,
   "metadata": {},
   "outputs": [],
   "source": [
    "# get the driving state data based on the CAN Server speed data\n",
    "\n",
    "stationary_speed = 0.5\n",
    "drive_duration = 0.5\n",
    "\n",
    "speed_df = can_df[can_df['speed'].notna()].copy()\n",
    "speed_df.reset_index(drop=True, inplace=True)\n",
    "speed_df['driving'] = abs(speed_df['speed']) > stationary_speed\n",
    "dr_start_times = speed_df[speed_df['driving'].astype(int).diff() == 1]['timestamp'].to_list()\n",
    "dr_end_times = speed_df[speed_df['driving'].astype(int).diff() == -1]['timestamp'].to_list()\n",
    "\n",
    "# get the driving states\n",
    "dr_df_states = []\n",
    "for i in range(min(len(dr_start_times),len(dr_end_times))):\n",
    "    if dr_end_times[i] - dr_start_times[i] > drive_duration:\n",
    "        dr_df_states.append(imu_df[(imu_df['correct_timestamp'] >= dr_start_times[i]) \n",
    "                        & (imu_df['correct_timestamp'] <= dr_end_times[i])])\n",
    "dr_df = pd.concat(dr_df_states, ignore_index=True)"
   ]
  }
 ],
 "metadata": {
  "kernelspec": {
   "display_name": "Python 3",
   "language": "python",
   "name": "python3"
  },
  "language_info": {
   "codemirror_mode": {
    "name": "ipython",
    "version": 3
   },
   "file_extension": ".py",
   "mimetype": "text/x-python",
   "name": "python",
   "nbconvert_exporter": "python",
   "pygments_lexer": "ipython3",
   "version": "3.10.6"
  },
  "orig_nbformat": 4
 },
 "nbformat": 4,
 "nbformat_minor": 2
}
