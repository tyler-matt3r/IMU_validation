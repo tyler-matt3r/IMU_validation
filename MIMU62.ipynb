{
 "cells": [
  {
   "attachments": {},
   "cell_type": "markdown",
   "metadata": {},
   "source": [
    "# Validate Motion State"
   ]
  },
  {
   "cell_type": "code",
   "execution_count": 1,
   "metadata": {},
   "outputs": [
    {
     "data": {
      "text/plain": [
       "<module 'fetch_data' from '/home/tyler/Documents/Matt3r/IMU_validation/fetch_data.py'>"
      ]
     },
     "execution_count": 1,
     "metadata": {},
     "output_type": "execute_result"
    }
   ],
   "source": [
    "import pandas as pd\n",
    "import matplotlib.pyplot as plt\n",
    "import fetch_data\n",
    "import numpy as np\n",
    "import correct_drift\n",
    "import datetime\n",
    "from scipy import signal\n",
    "from scipy.spatial.transform import Rotation as R\n",
    "from ahrs.filters import Madgwick\n",
    "from ahrs.filters import Mahony\n",
    "\n",
    "import importlib\n",
    "importlib.reload(fetch_data)"
   ]
  },
  {
   "attachments": {},
   "cell_type": "markdown",
   "metadata": {},
   "source": [
    "Select Data"
   ]
  },
  {
   "cell_type": "code",
   "execution_count": 29,
   "metadata": {},
   "outputs": [],
   "source": [
    "# Hamid data\n",
    "start_date_str = '2023-06-28'\n",
    "end_date_str = '2023-06-28'\n",
    "organization_id = 'hamid'\n",
    "can_k3y_id = '17700cf8'\n",
    "imu_k3y_id = '17700cf8'"
   ]
  },
  {
   "cell_type": "code",
   "execution_count": 22,
   "metadata": {},
   "outputs": [],
   "source": [
    "# Amir M data\n",
    "start_date_str = '2023-06-28'\n",
    "end_date_str = '2023-06-28'\n",
    "organization_id = 'amirm'\n",
    "can_k3y_id = 'c9a6b512'\n",
    "imu_k3y_id = 'c9a6b512'"
   ]
  },
  {
   "attachments": {},
   "cell_type": "markdown",
   "metadata": {},
   "source": [
    "Get the CAN Server Data"
   ]
  },
  {
   "cell_type": "code",
   "execution_count": 30,
   "metadata": {},
   "outputs": [],
   "source": [
    "event_dict = fetch_data.get_events(can_k3y_id, organization_id, start_date_str, end_date_str)\n",
    "can_df = fetch_data.get_can_data(can_k3y_id, organization_id, start_date_str, end_date_str)"
   ]
  },
  {
   "attachments": {},
   "cell_type": "markdown",
   "metadata": {},
   "source": [
    "Get the IMU Data"
   ]
  },
  {
   "cell_type": "code",
   "execution_count": 31,
   "metadata": {},
   "outputs": [],
   "source": [
    "# use if we have clock data\n",
    "imu_df = fetch_data.get_imu_data(imu_k3y_id, organization_id, start_date_str, end_date_str)"
   ]
  },
  {
   "attachments": {},
   "cell_type": "markdown",
   "metadata": {},
   "source": [
    "Correct the Rotation Matrix for Hamid's Data"
   ]
  },
  {
   "cell_type": "code",
   "execution_count": 33,
   "metadata": {},
   "outputs": [],
   "source": [
    "GLOVE_TO_CONSOLE_MTX = np.array([[0, 0, 1], [0.0856, 0.9963, 0], [-0.9963, 0.0856, 0]])\n",
    "S3_K3Y_VEH_ROT_MTX_CONSOLE = np.array([[1, 0, 0], [0, -1, 0], [0, 0, -1]])\n",
    "S3_K3Y_VEH_ROT_MTX = np.matmul(S3_K3Y_VEH_ROT_MTX_CONSOLE, GLOVE_TO_CONSOLE_MTX)\n",
    "CORRECTION_MATRIX = S3_K3Y_VEH_ROT_MTX_CONSOLE@np.linalg.inv(S3_K3Y_VEH_ROT_MTX)\n",
    "\n",
    "# az = 9.83\n",
    "# # ay = 0.835\n",
    "# ay = 0.987\n",
    "# g = np.sqrt(az**2 + ay**2)\n",
    "# TILT_ROT = np.array([[1, 0, 0], [0, az/g, -ay/g], [0, ay/g, az/g]])\n",
    "\n",
    "# CORRECTION_MATRIX = S3_K3Y_VEH_ROT_MTX_CONSOLE@TILT_ROT@np.linalg.inv(S3_K3Y_VEH_ROT_MTX)\n",
    "\n",
    "if organization_id == 'hamid':\n",
    "    acc_np = imu_df[['correct_timestamp', 'lr_acc(m/s^2)', 'bf_acc(m/s^2)', 'vert_acc(m/s^2)']].to_numpy()\n",
    "    vehicle_ac = np.matmul(CORRECTION_MATRIX, acc_np[:, 1:].T)\n",
    "    vehicle_ac_np = np.column_stack((acc_np[:,0], vehicle_ac.T))\n",
    "    imu_df = pd.DataFrame(vehicle_ac_np, columns=['correct_timestamp', 'lr_acc(m/s^2)', 'bf_acc(m/s^2)', 'vert_acc(m/s^2)'])"
   ]
  },
  {
   "attachments": {},
   "cell_type": "markdown",
   "metadata": {},
   "source": [
    "Use the speed data to create stationary and driving states"
   ]
  },
  {
   "cell_type": "code",
   "execution_count": 34,
   "metadata": {},
   "outputs": [],
   "source": [
    "stationary_speed = 0.5\n",
    "drive_duration = 1\n",
    "\n",
    "speed_df = can_df[can_df['speed'].notna()].copy()\n",
    "speed_df.reset_index(drop=True, inplace=True)\n",
    "speed_df['driving'] = abs(speed_df['speed']) > stationary_speed\n",
    "dr_start_times = speed_df[speed_df['driving'].astype(int).diff() == 1]['timestamp'].to_list()\n",
    "dr_end_times = speed_df[speed_df['driving'].astype(int).diff() == -1]['timestamp'].to_list()\n",
    "\n",
    "# get the driving states\n",
    "dr_df_states = []\n",
    "for i in range(min(len(dr_start_times),len(dr_end_times))):\n",
    "    if dr_end_times[i] - dr_start_times[i] > drive_duration:\n",
    "        dr_df_states.append(imu_df[(imu_df['correct_timestamp'] >= dr_start_times[i]) \n",
    "                        & (imu_df['correct_timestamp'] <= dr_end_times[i])])\n",
    "dr_df = pd.concat(dr_df_states, ignore_index=True)"
   ]
  },
  {
   "cell_type": "code",
   "execution_count": 38,
   "metadata": {},
   "outputs": [],
   "source": [
    "# get the driving state set based on the stationary states\n",
    "\n",
    "dr_df = imu_df\n",
    "for state_num in range(len(event_dict['stationary_state'])):\n",
    "    ss_start_time = event_dict['stationary_state'][state_num]['start']\n",
    "    ss_end_time = event_dict['stationary_state'][state_num]['end']\n",
    "    dr_df = dr_df[(dr_df['correct_timestamp'] <= ss_start_time) | (dr_df['correct_timestamp'] >= ss_end_time)]\n",
    "dr_df_list = []\n",
    "for state in event_dict['driving_state']:\n",
    "    dr_start_time = state['start']\n",
    "    dr_end_time = state['end']\n",
    "    dr_df_list.append(dr_df[(dr_df['correct_timestamp'] >= dr_start_time) & (dr_df['correct_timestamp'] <= dr_end_time)])\n",
    "dr_df = pd.concat(dr_df_list, ignore_index=True)"
   ]
  },
  {
   "attachments": {},
   "cell_type": "markdown",
   "metadata": {},
   "source": [
    "Use a cutoff acceleration to determine motion and compare with speed data"
   ]
  },
  {
   "cell_type": "code",
   "execution_count": 64,
   "metadata": {},
   "outputs": [
    {
     "name": "stdout",
     "output_type": "stream",
     "text": [
      "0.7479260369815093\n"
     ]
    }
   ],
   "source": [
    "acc_cutoff = 1.2\n",
    "\n",
    "imu_df['norm_acc'] = np.sqrt(imu_df['lr_acc(m/s^2)']**2 + imu_df['bf_acc(m/s^2)']**2 + imu_df['vert_acc(m/s^2)']**2)\n",
    "dr_proxy_df = imu_df[imu_df['norm_acc'] > acc_cutoff]\n",
    "\n",
    "proxy_set = set(dr_proxy_df['correct_timestamp'].to_list())\n",
    "truth_set = set(dr_df['correct_timestamp'].to_list())\n",
    "\n",
    "# should be close to 1.00\n",
    "stationary_validation = len(truth_set.intersection(proxy_set)) / len(proxy_set)\n",
    "print(stationary_validation)"
   ]
  },
  {
   "cell_type": "code",
   "execution_count": 204,
   "metadata": {},
   "outputs": [
    {
     "data": {
      "text/plain": [
       "0.7500497760079642"
      ]
     },
     "execution_count": 204,
     "metadata": {},
     "output_type": "execute_result"
    }
   ],
   "source": [
    "similarity = len(truth_set.intersection(proxy_set)) / len(truth_set.union(proxy_set))\n",
    "similarity"
   ]
  },
  {
   "attachments": {},
   "cell_type": "markdown",
   "metadata": {},
   "source": [
    "Optimize the Acceleration Parameter"
   ]
  },
  {
   "cell_type": "code",
   "execution_count": 197,
   "metadata": {},
   "outputs": [
    {
     "name": "stdout",
     "output_type": "stream",
     "text": [
      "44875.84837460518\n"
     ]
    }
   ],
   "source": [
    "print(dr_proxy_df['correct_timestamp'].diff().max())"
   ]
  },
  {
   "attachments": {},
   "cell_type": "markdown",
   "metadata": {},
   "source": [
    "Filter Out Warmup Time"
   ]
  },
  {
   "cell_type": "code",
   "execution_count": 6,
   "metadata": {},
   "outputs": [],
   "source": [
    "warmup_start = 1687886372\n",
    "warmup_end = 1687886435\n",
    "imu_df = imu_df[(imu_df['correct_timestamp'] <= warmup_start) | (imu_df['correct_timestamp'] >= warmup_end)]"
   ]
  },
  {
   "attachments": {},
   "cell_type": "markdown",
   "metadata": {},
   "source": [
    "Get Stationary State Data Metrics"
   ]
  },
  {
   "cell_type": "code",
   "execution_count": 17,
   "metadata": {},
   "outputs": [
    {
     "ename": "ValueError",
     "evalue": "No objects to concatenate",
     "output_type": "error",
     "traceback": [
      "\u001b[0;31m---------------------------------------------------------------------------\u001b[0m",
      "\u001b[0;31mValueError\u001b[0m                                Traceback (most recent call last)",
      "Cell \u001b[0;32mIn[17], line 11\u001b[0m\n\u001b[1;32m      7\u001b[0m     imu_ss_states\u001b[39m.\u001b[39mappend(imu_df[(imu_df[\u001b[39m'\u001b[39m\u001b[39mcorrect_timestamp\u001b[39m\u001b[39m'\u001b[39m] \u001b[39m>\u001b[39m\u001b[39m=\u001b[39m ss_start_time) \n\u001b[1;32m      8\u001b[0m                        \u001b[39m&\u001b[39m (imu_df[\u001b[39m'\u001b[39m\u001b[39mcorrect_timestamp\u001b[39m\u001b[39m'\u001b[39m] \u001b[39m<\u001b[39m\u001b[39m=\u001b[39m ss_end_time)])\n\u001b[1;32m      9\u001b[0m     can_ss_states\u001b[39m.\u001b[39mappend(can_df[(can_df[\u001b[39m'\u001b[39m\u001b[39mtimestamp\u001b[39m\u001b[39m'\u001b[39m] \u001b[39m>\u001b[39m\u001b[39m=\u001b[39m ss_start_time) \n\u001b[1;32m     10\u001b[0m                         \u001b[39m&\u001b[39m (can_df[\u001b[39m'\u001b[39m\u001b[39mtimestamp\u001b[39m\u001b[39m'\u001b[39m] \u001b[39m<\u001b[39m\u001b[39m=\u001b[39m ss_end_time)])\n\u001b[0;32m---> 11\u001b[0m imu_ss_df \u001b[39m=\u001b[39m pd\u001b[39m.\u001b[39;49mconcat(imu_ss_states, ignore_index\u001b[39m=\u001b[39;49m\u001b[39mTrue\u001b[39;49;00m)\n\u001b[1;32m     12\u001b[0m can_ss_df \u001b[39m=\u001b[39m pd\u001b[39m.\u001b[39mconcat(can_ss_states, ignore_index\u001b[39m=\u001b[39m\u001b[39mTrue\u001b[39;00m)\n\u001b[1;32m     14\u001b[0m \u001b[39mprint\u001b[39m(\u001b[39m'\u001b[39m\u001b[39mleft/right acceleration:\u001b[39m\u001b[39m'\u001b[39m)\n",
      "File \u001b[0;32m~/.local/lib/python3.10/site-packages/pandas/core/reshape/concat.py:372\u001b[0m, in \u001b[0;36mconcat\u001b[0;34m(objs, axis, join, ignore_index, keys, levels, names, verify_integrity, sort, copy)\u001b[0m\n\u001b[1;32m    369\u001b[0m \u001b[39melif\u001b[39;00m copy \u001b[39mand\u001b[39;00m using_copy_on_write():\n\u001b[1;32m    370\u001b[0m     copy \u001b[39m=\u001b[39m \u001b[39mFalse\u001b[39;00m\n\u001b[0;32m--> 372\u001b[0m op \u001b[39m=\u001b[39m _Concatenator(\n\u001b[1;32m    373\u001b[0m     objs,\n\u001b[1;32m    374\u001b[0m     axis\u001b[39m=\u001b[39;49maxis,\n\u001b[1;32m    375\u001b[0m     ignore_index\u001b[39m=\u001b[39;49mignore_index,\n\u001b[1;32m    376\u001b[0m     join\u001b[39m=\u001b[39;49mjoin,\n\u001b[1;32m    377\u001b[0m     keys\u001b[39m=\u001b[39;49mkeys,\n\u001b[1;32m    378\u001b[0m     levels\u001b[39m=\u001b[39;49mlevels,\n\u001b[1;32m    379\u001b[0m     names\u001b[39m=\u001b[39;49mnames,\n\u001b[1;32m    380\u001b[0m     verify_integrity\u001b[39m=\u001b[39;49mverify_integrity,\n\u001b[1;32m    381\u001b[0m     copy\u001b[39m=\u001b[39;49mcopy,\n\u001b[1;32m    382\u001b[0m     sort\u001b[39m=\u001b[39;49msort,\n\u001b[1;32m    383\u001b[0m )\n\u001b[1;32m    385\u001b[0m \u001b[39mreturn\u001b[39;00m op\u001b[39m.\u001b[39mget_result()\n",
      "File \u001b[0;32m~/.local/lib/python3.10/site-packages/pandas/core/reshape/concat.py:429\u001b[0m, in \u001b[0;36m_Concatenator.__init__\u001b[0;34m(self, objs, axis, join, keys, levels, names, ignore_index, verify_integrity, copy, sort)\u001b[0m\n\u001b[1;32m    426\u001b[0m     objs \u001b[39m=\u001b[39m \u001b[39mlist\u001b[39m(objs)\n\u001b[1;32m    428\u001b[0m \u001b[39mif\u001b[39;00m \u001b[39mlen\u001b[39m(objs) \u001b[39m==\u001b[39m \u001b[39m0\u001b[39m:\n\u001b[0;32m--> 429\u001b[0m     \u001b[39mraise\u001b[39;00m \u001b[39mValueError\u001b[39;00m(\u001b[39m\"\u001b[39m\u001b[39mNo objects to concatenate\u001b[39m\u001b[39m\"\u001b[39m)\n\u001b[1;32m    431\u001b[0m \u001b[39mif\u001b[39;00m keys \u001b[39mis\u001b[39;00m \u001b[39mNone\u001b[39;00m:\n\u001b[1;32m    432\u001b[0m     objs \u001b[39m=\u001b[39m \u001b[39mlist\u001b[39m(com\u001b[39m.\u001b[39mnot_none(\u001b[39m*\u001b[39mobjs))\n",
      "\u001b[0;31mValueError\u001b[0m: No objects to concatenate"
     ]
    }
   ],
   "source": [
    "# stitching together all stationary state data\n",
    "imu_ss_states = []\n",
    "can_ss_states = []\n",
    "for state_num in range(len(event_dict['stationary_state'])):\n",
    "    ss_start_time = event_dict['stationary_state'][state_num]['start']\n",
    "    ss_end_time = event_dict['stationary_state'][state_num]['end']\n",
    "    imu_ss_states.append(imu_df[(imu_df['correct_timestamp'] >= ss_start_time) \n",
    "                       & (imu_df['correct_timestamp'] <= ss_end_time)])\n",
    "    can_ss_states.append(can_df[(can_df['timestamp'] >= ss_start_time) \n",
    "                        & (can_df['timestamp'] <= ss_end_time)])\n",
    "imu_ss_df = pd.concat(imu_ss_states, ignore_index=True)\n",
    "can_ss_df = pd.concat(can_ss_states, ignore_index=True)\n",
    "\n",
    "print('left/right acceleration:')\n",
    "print(f'imu mean: {imu_ss_df[\"lr_acc(m/s^2)\"].mean()}')\n",
    "print(f'imu max: {imu_ss_df[\"lr_acc(m/s^2)\"].max()}')\n",
    "print(f'imu min: {imu_ss_df[\"lr_acc(m/s^2)\"].min()}')\n",
    "print(f'can mean: {can_ss_df[\"lr_acc\"].mean()}')\n",
    "print(f'can max: {can_ss_df[\"lr_acc\"].max()}')\n",
    "print(f'can min: {can_ss_df[\"lr_acc\"].min()}')\n",
    "print('')\n",
    "print('back/front acceleration:')\n",
    "print(f'imu mean: {imu_ss_df[\"bf_acc(m/s^2)\"].mean()}')\n",
    "print(f'imu max: {imu_ss_df[\"bf_acc(m/s^2)\"].max()}')\n",
    "print(f'imu min: {imu_ss_df[\"bf_acc(m/s^2)\"].min()}')\n",
    "print(f'can mean: {can_ss_df[\"bf_acc\"].mean()}')\n",
    "print(f'can max: {can_ss_df[\"bf_acc\"].max()}')\n",
    "print(f'can min: {can_ss_df[\"bf_acc\"].min()}')\n",
    "print('')\n",
    "print('vertical acceleration:')\n",
    "print(f'imu mean: {imu_ss_df[\"vert_acc(m/s^2)\"].mean()}')\n",
    "print(f'imu max: {imu_ss_df[\"vert_acc(m/s^2)\"].max()}')\n",
    "print(f'imu min: {imu_ss_df[\"vert_acc(m/s^2)\"].min()}')\n",
    "print(f'can mean: {can_ss_df[\"vert_acc\"].mean()}')\n",
    "print(f'can max: {can_ss_df[\"vert_acc\"].max()}')\n",
    "print(f'can min: {can_ss_df[\"vert_acc\"].min()}')\n",
    "print('')\n",
    "print('normalized acceleration:')\n",
    "imu_norm = np.sqrt(imu_ss_df['lr_acc(m/s^2)']**2 + imu_ss_df['bf_acc(m/s^2)']**2 + imu_ss_df['vert_acc(m/s^2)']**2)\n",
    "can_norm = np.sqrt(can_ss_df['lr_acc']**2 + can_ss_df['bf_acc']**2 + can_ss_df['vert_acc']**2)\n",
    "print(f'imu mean: {imu_norm.mean()}')\n",
    "print(f'imu max: {imu_norm.max()}')\n",
    "print(f'imu min: {imu_norm.min()}')\n",
    "print(f'can mean: {can_norm.mean()}')\n",
    "print(f'can max: {can_norm.max()}')\n",
    "print(f'can min: {can_norm.min()}')"
   ]
  },
  {
   "cell_type": "code",
   "execution_count": 105,
   "metadata": {},
   "outputs": [
    {
     "name": "stdout",
     "output_type": "stream",
     "text": [
      "left/right acceleration:\n",
      "imu mean: 0.043944221051727086\n",
      "imu max: 6.32931139896168\n",
      "imu min: -4.045026772044387\n",
      "\n",
      "back/from acceleration:\n",
      "imu mean: 0.13444813589348042\n",
      "imu max: 5.747378041296793\n",
      "imu min: -4.16723471812193\n",
      "\n",
      "vertical acceleration:\n",
      "imu mean: 0.0943325911208353\n",
      "imu max: 4.894458958086332\n",
      "imu min: -3.6047239625559415\n",
      "\n",
      "normalized acceleration:\n",
      "imu mean: 0.8784694959040678\n",
      "imu max: 6.536425891773417\n",
      "imu min: 0.007551239919562279\n"
     ]
    }
   ],
   "source": [
    "# driving state metrics\n",
    "\n",
    "# dr_df = imu_df\n",
    "# for state_num in range(len(event_dict['stationary_state'])):\n",
    "#     ss_start_time = event_dict['stationary_state'][state_num]['start']\n",
    "#     ss_end_time = event_dict['stationary_state'][state_num]['end']\n",
    "#     dr_df = dr_df[(dr_df['correct_timestamp'] <= ss_start_time) | (dr_df['correct_timestamp'] >= ss_end_time)]\n",
    "\n",
    "print('left/right acceleration:')\n",
    "print(f'imu mean: {dr_df[\"lr_acc(m/s^2)\"].mean()}')\n",
    "print(f'imu max: {dr_df[\"lr_acc(m/s^2)\"].max()}')\n",
    "print(f'imu min: {dr_df[\"lr_acc(m/s^2)\"].min()}')\n",
    "print('')\n",
    "print('back/from acceleration:')\n",
    "print(f'imu mean: {dr_df[\"bf_acc(m/s^2)\"].mean()}')\n",
    "print(f'imu max: {dr_df[\"bf_acc(m/s^2)\"].max()}')\n",
    "print(f'imu min: {dr_df[\"bf_acc(m/s^2)\"].min()}')\n",
    "print('')\n",
    "print('vertical acceleration:')\n",
    "print(f'imu mean: {dr_df[\"vert_acc(m/s^2)\"].mean()}')\n",
    "print(f'imu max: {dr_df[\"vert_acc(m/s^2)\"].max()}')\n",
    "print(f'imu min: {dr_df[\"vert_acc(m/s^2)\"].min()}')\n",
    "print('')\n",
    "print('normalized acceleration:')\n",
    "imu_norm = np.sqrt(dr_df['lr_acc(m/s^2)']**2 + dr_df['bf_acc(m/s^2)']**2 + dr_df['vert_acc(m/s^2)']**2)\n",
    "print(f'imu mean: {imu_norm.mean()}')\n",
    "print(f'imu max: {imu_norm.max()}')\n",
    "print(f'imu min: {imu_norm.min()}')"
   ]
  },
  {
   "attachments": {},
   "cell_type": "markdown",
   "metadata": {},
   "source": [
    "Filter Only Driving States"
   ]
  },
  {
   "cell_type": "code",
   "execution_count": 15,
   "metadata": {},
   "outputs": [],
   "source": [
    "# Check the speed of the car\n",
    "\n",
    "df = dr_proxy_df\n",
    "\n",
    "window = 120\n",
    "count = 0\n",
    "\n",
    "for state_num in range(len(event_dict['driving_state'])):\n",
    "    dr_start_time = event_dict['driving_state'][state_num]['start']\n",
    "    dr_end_time = event_dict['driving_state'][state_num]['end']\n",
    "\n",
    "    while (dr_end_time - dr_start_time > window):\n",
    "        dr_motion = df[(df['correct_timestamp'] >= dr_start_time) \n",
    "                        & (df['correct_timestamp'] <= dr_start_time + window)]\n",
    "        can_motion = can_df[(can_df['timestamp'] >= dr_start_time) \n",
    "                            & (can_df['timestamp'] <= dr_start_time + window)]\n",
    "        dr_start_time += window\n",
    "\n",
    "        count += 1\n",
    "        # if ((len(dr_motion) != 0) and (len(can_motion) != 0) and (count < 20)):\n",
    "        if ((len(dr_motion) != 0) and (len(can_motion) != 0)):\n",
    "            print(count)\n",
    "            fig, (ax1, ax2, ax3) = plt.subplots(1, 3)\n",
    "\n",
    "            fig.set_size_inches(10,6)\n",
    "\n",
    "            ax1.scatter(x=can_motion['timestamp'] - dr_start_time + window, y=-can_motion['lr_acc'], s=1, color='red', label='CANserver')\n",
    "            ax1.scatter(x=dr_motion['correct_timestamp'] - dr_start_time + window, y=dr_motion['lr_acc(m/s^2)'], s=1, label='IMU')\n",
    "            ax1.set_ylim(-15,15)\n",
    "\n",
    "            ax2.scatter(x=can_motion['timestamp'] - dr_start_time + window, y=can_motion['bf_acc'], s=1, color='red', label='CANserver')\n",
    "            ax2.scatter(x=dr_motion['correct_timestamp'] - dr_start_time + window, y=dr_motion['bf_acc(m/s^2)'], s=1, label='IMU')\n",
    "            ax2.set_ylim(-15,15)\n",
    "\n",
    "            ax3.scatter(x=can_motion['timestamp'] - dr_start_time + window, y=can_motion['vert_acc'], s=1, color='red', label='CANserver')\n",
    "            ax3.scatter(x=dr_motion['correct_timestamp'] - dr_start_time + window, y=dr_motion['vert_acc(m/s^2)'], s=1, label='IMU')\n",
    "            ax3.set_ylim(-15,15)\n",
    "\n",
    "            fig.suptitle(\"IMU Acceleraion Metrics for Driving State Data\")\n",
    "            fig.text(0.5, 0.0, 'Elapsed Time (s)', ha='center')\n",
    "\n",
    "            ax1.set_ylabel(\"Left/Right Acceleration ($m/s^2$)\")\n",
    "            ax2.set_ylabel(\"Back/Front Acceleration ($m/s^2$)\")\n",
    "            ax3.set_ylabel(\"Vertical Acceleration ($m/s^2$)\")\n",
    "\n",
    "            ax1.legend()\n",
    "            ax2.legend()\n",
    "            ax3.legend()\n",
    "            plt.tight_layout()\n",
    "            plt.show()\n",
    "\n",
    "            fig, ax = plt.subplots()\n",
    "\n",
    "            ax.scatter(x=can_motion['timestamp'] - dr_start_time + window, y=can_motion['speed'], s=1, color='red', label='CANserver')\n",
    "            ax.set_ylim(-10,100)\n",
    "\n",
    "            fig.suptitle(\"IMU Acceleraion Metrics for Driving State Data\")\n",
    "            fig.text(0.5, 0.0, 'Elapsed Time (s)', ha='center')\n",
    "\n",
    "            ax.set_ylabel(\"Left/Right Acceleration ($m/s^2$)\")\n",
    "\n",
    "            plt.show()"
   ]
  }
 ],
 "metadata": {
  "kernelspec": {
   "display_name": "Python 3",
   "language": "python",
   "name": "python3"
  },
  "language_info": {
   "codemirror_mode": {
    "name": "ipython",
    "version": 3
   },
   "file_extension": ".py",
   "mimetype": "text/x-python",
   "name": "python",
   "nbconvert_exporter": "python",
   "pygments_lexer": "ipython3",
   "version": "3.10.6"
  },
  "orig_nbformat": 4
 },
 "nbformat": 4,
 "nbformat_minor": 2
}
