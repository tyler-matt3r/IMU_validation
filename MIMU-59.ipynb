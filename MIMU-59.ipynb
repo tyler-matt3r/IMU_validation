{
 "cells": [
  {
   "cell_type": "code",
   "execution_count": 3,
   "metadata": {},
   "outputs": [],
   "source": [
    "import pandas as pd\n",
    "import matplotlib.pyplot as plt\n",
    "import fetch_data\n",
    "\n",
    "start_date_str = '2023-05-31'\n",
    "end_date_str = '2023-05-31'\n",
    "organization_id = 'hamid'\n",
    "can_k3y_id = '9ed5b50e'\n",
    "imu_k3y_id = '78f8031e'"
   ]
  },
  {
   "attachments": {},
   "cell_type": "markdown",
   "metadata": {},
   "source": [
    "Collect IMU and CAN Server Data"
   ]
  },
  {
   "cell_type": "code",
   "execution_count": 5,
   "metadata": {},
   "outputs": [],
   "source": [
    "event_dict = fetch_data.get_events(can_k3y_id, organization_id, start_date_str, end_date_str)\n",
    "can_df = fetch_data.get_can_data(can_k3y_id, organization_id, start_date_str, end_date_str)\n",
    "imu_df = fetch_data.get_imu_data(imu_k3y_id, organization_id, start_date_str, end_date_str)"
   ]
  }
 ],
 "metadata": {
  "kernelspec": {
   "display_name": "Python 3",
   "language": "python",
   "name": "python3"
  },
  "language_info": {
   "codemirror_mode": {
    "name": "ipython",
    "version": 3
   },
   "file_extension": ".py",
   "mimetype": "text/x-python",
   "name": "python",
   "nbconvert_exporter": "python",
   "pygments_lexer": "ipython3",
   "version": "3.10.6"
  },
  "orig_nbformat": 4
 },
 "nbformat": 4,
 "nbformat_minor": 2
}
